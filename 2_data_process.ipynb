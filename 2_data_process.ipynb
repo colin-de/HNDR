{
 "cells": [
  {
   "attachments": {},
   "cell_type": "markdown",
   "id": "cd208bdd-10c1-4e83-93cc-ff3daff5c360",
   "metadata": {},
   "source": [
    "### Data Processing of Bundle Data "
   ]
  },
  {
   "cell_type": "code",
   "execution_count": 2,
   "id": "e8e55f77",
   "metadata": {},
   "outputs": [],
   "source": [
    "from matplotlib import cm\n",
    "import matplotlib.pyplot as plt\n",
    "import numpy as np\n",
    "from multiprocessing import Pool\n",
    "\n",
    "def process_directory(dir_number):\n",
    "    # Use zfill to add leading zeros to single digit numbers (e.g. 4 -> 04)\n",
    "    dir_str = str(dir_number).zfill(2)\n",
    "\n",
    "    # Load the data for this directory\n",
    "    bundle = np.load(f\"data/scene1/{dir_str}/frame_bundle.npz\", allow_pickle=True)\n",
    "\n",
    "    # Loop through the frames\n",
    "    for frame in range(120):\n",
    "        img = bundle[f'img_{frame}']  # camera image, numpy array\n",
    "        depth = bundle[f'depth_{frame}']  # lidar depth in meters, numpy array\n",
    "\n",
    "        # Save the 'img' array as a jpg file\n",
    "        plt.imsave(f\"data/scene1/{dir_str}/images/img_{frame}.png\", img)\n",
    "\n",
    "        # Normalize depth array to 0-1\n",
    "        depth_normalized = (depth - np.min(depth)) / (np.max(depth) - np.min(depth))\n",
    "\n",
    "        # Convert depth array to colormap\n",
    "        depth_colormap = cm.Spectral(depth_normalized)\n",
    "\n",
    "        # Save the 'depth' array as a jpg file\n",
    "        plt.imsave(f\"data/scene1/{dir_str}/depth/depth_{frame}.png\", depth_colormap)\n",
    "\n",
    "# Number of processes to create, ideally equal to the number of CPU cores\n",
    "num_processes = 32  # You can adjust this number based on your CPU\n",
    "\n",
    "# List of directory numbers\n",
    "dir_numbers = range(0, 43)\n",
    "\n",
    "# Create a pool of processes\n",
    "with Pool(num_processes) as pool:\n",
    "    # Map the directory numbers to the process_directory function\n",
    "    pool.map(process_directory, dir_numbers)\n"
   ]
  },
  {
   "cell_type": "code",
   "execution_count": 4,
   "id": "b59f6b2e",
   "metadata": {},
   "outputs": [
    {
     "name": "stdout",
     "output_type": "stream",
     "text": [
      "Subdirectories created.\n"
     ]
    }
   ],
   "source": [
    "import os\n",
    "\n",
    "# Specify the directory where your scene1 folder is located\n",
    "scene1_directory = 'data/scene1'\n",
    "\n",
    "# Loop through all the subdirectories in scene1\n",
    "for subdir_name in os.listdir(scene1_directory):\n",
    "    subdir_path = os.path.join(scene1_directory, subdir_name)\n",
    "    \n",
    "    # Check if the current item is a directory\n",
    "    if os.path.isdir(subdir_path):\n",
    "        # Construct the path for the new subdirectories\n",
    "        images_path = os.path.join(subdir_path, 'images')\n",
    "        depth_path = os.path.join(subdir_path, 'depth')\n",
    "        \n",
    "        # Create the new subdirectories\n",
    "        os.makedirs(images_path, exist_ok=True)\n",
    "        os.makedirs(depth_path, exist_ok=True)\n",
    "\n",
    "print('Subdirectories created.')\n"
   ]
  },
  {
   "cell_type": "code",
   "execution_count": 3,
   "id": "d3d2c47f",
   "metadata": {},
   "outputs": [],
   "source": [
    "import os\n",
    "import shutil\n",
    "\n",
    "# The base path of your data\n",
    "base_path = '/home/workstationpatrick/code/HNDR/data/scene1'\n",
    "\n",
    "# The destination directories\n",
    "dest_images_dir = '/home/workstationpatrick/code/HNDR/sequence/images'\n",
    "dest_depth_dir = '/home/workstationpatrick/code/HNDR/sequence/depth'\n",
    "\n",
    "# Create destination directories if not exist\n",
    "os.makedirs(dest_images_dir, exist_ok=True)\n",
    "os.makedirs(dest_depth_dir, exist_ok=True)\n",
    "\n",
    "# Loop through all the directory numbers from 00 to 42\n",
    "for dir_number in range(43):\n",
    "    # Convert directory number to string with leading zeros (e.g., 1 -> '01')\n",
    "    dir_str = str(dir_number).zfill(2)\n",
    "\n",
    "    # Build the source file paths\n",
    "    src_image_path = os.path.join(base_path, dir_str, 'images', 'img_0.png')\n",
    "    src_depth_path = os.path.join(base_path, dir_str, 'depth', 'depth_0.png')\n",
    "\n",
    "    # Build the destination file paths\n",
    "    dest_image_path = os.path.join(dest_images_dir, f'img_{dir_str}.png')\n",
    "    dest_depth_path = os.path.join(dest_depth_dir, f'depth_{dir_str}.png')\n",
    "\n",
    "    # Copy the files\n",
    "    shutil.copy(src_image_path, dest_image_path)\n",
    "    shutil.copy(src_depth_path, dest_depth_path)\n"
   ]
  },
  {
   "cell_type": "code",
   "execution_count": 1,
   "id": "65fcb69c",
   "metadata": {},
   "outputs": [
    {
     "name": "stdout",
     "output_type": "stream",
     "text": [
      "Contents of images and depth subdirectories deleted.\n"
     ]
    }
   ],
   "source": [
    "import os\n",
    "import shutil\n",
    "\n",
    "# Specify the directory where your scene1 folder is located\n",
    "scene1_directory = 'data/scene1'\n",
    "\n",
    "# Loop through all the subdirectories in scene1\n",
    "for i in range(43):  # 00 to 42\n",
    "    subdir_name = f\"{i:02d}\"  # Format the number as two digits, i.e., 00, 01, ..., 42\n",
    "    subdir_path = os.path.join(scene1_directory, subdir_name)\n",
    "    \n",
    "    # Check if the current item is a directory\n",
    "    if os.path.isdir(subdir_path):\n",
    "        # Construct the paths for the images and depth subdirectories\n",
    "        images_path = os.path.join(subdir_path, 'images')\n",
    "        depth_path = os.path.join(subdir_path, 'depth')\n",
    "\n",
    "        # Delete contents in images directory\n",
    "        if os.path.exists(images_path):\n",
    "            shutil.rmtree(images_path)\n",
    "            os.makedirs(images_path)\n",
    "\n",
    "        # Delete contents in depth directory\n",
    "        if os.path.exists(depth_path):\n",
    "            shutil.rmtree(depth_path)\n",
    "            os.makedirs(depth_path)\n",
    "\n",
    "print('Contents of images and depth subdirectories deleted.')\n"
   ]
  }
 ],
 "metadata": {
  "kernelspec": {
   "display_name": "Python 3 (ipykernel)",
   "language": "python",
   "name": "python3"
  },
  "language_info": {
   "codemirror_mode": {
    "name": "ipython",
    "version": 3
   },
   "file_extension": ".py",
   "mimetype": "text/x-python",
   "name": "python",
   "nbconvert_exporter": "python",
   "pygments_lexer": "ipython3",
   "version": "3.8.16"
  }
 },
 "nbformat": 4,
 "nbformat_minor": 5
}
